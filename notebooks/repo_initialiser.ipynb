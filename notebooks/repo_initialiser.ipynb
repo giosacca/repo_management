{
 "cells": [
  {
   "cell_type": "markdown",
   "metadata": {
    "Collapsed": "false"
   },
   "source": [
    "# Repo initialiser"
   ]
  },
  {
   "cell_type": "markdown",
   "metadata": {
    "Collapsed": "false"
   },
   "source": [
    "## Initialise"
   ]
  },
  {
   "cell_type": "code",
   "execution_count": 1,
   "metadata": {
    "Collapsed": "false"
   },
   "outputs": [],
   "source": [
    "%run initialise.py"
   ]
  },
  {
   "cell_type": "markdown",
   "metadata": {
    "Collapsed": "false"
   },
   "source": [
    "## Create repo"
   ]
  },
  {
   "cell_type": "code",
   "execution_count": 2,
   "metadata": {
    "Collapsed": "false"
   },
   "outputs": [
    {
     "name": "stderr",
     "output_type": "stream",
     "text": [
      "2019-12-02 10:54:11,220 - [INFO] - The path of the repo is C:\\Users\\giova\\Repos\\dating\n"
     ]
    }
   ],
   "source": [
    "repo = rm.RepoInitialiser(\n",
    "    name = 'dating',\n",
    "    link = 'https://giosacca@bitbucket.org/giosacca/dating.git',\n",
    "    owner = 'Giovanni Saccarola'\n",
    ")"
   ]
  },
  {
   "cell_type": "markdown",
   "metadata": {
    "Collapsed": "false"
   },
   "source": [
    "## Clone from Bitbucket"
   ]
  },
  {
   "cell_type": "code",
   "execution_count": 3,
   "metadata": {
    "Collapsed": "false"
   },
   "outputs": [
    {
     "name": "stderr",
     "output_type": "stream",
     "text": [
      "2019-12-02 10:54:13,387 - [INFO] - The repos has been cloned from Bitbucket\n"
     ]
    }
   ],
   "source": [
    "repo.clone_from_bitbucket()"
   ]
  },
  {
   "cell_type": "markdown",
   "metadata": {
    "Collapsed": "false"
   },
   "source": [
    "## Add gitignore"
   ]
  },
  {
   "cell_type": "code",
   "execution_count": 4,
   "metadata": {
    "Collapsed": "false"
   },
   "outputs": [
    {
     "name": "stderr",
     "output_type": "stream",
     "text": [
      "2019-12-02 10:54:13,393 - [INFO] - The .gitignore file has been added to the repo\n"
     ]
    }
   ],
   "source": [
    "repo.add_gitignore()"
   ]
  },
  {
   "cell_type": "markdown",
   "metadata": {
    "Collapsed": "false"
   },
   "source": [
    "## Add license"
   ]
  },
  {
   "cell_type": "code",
   "execution_count": 5,
   "metadata": {
    "Collapsed": "false"
   },
   "outputs": [
    {
     "name": "stderr",
     "output_type": "stream",
     "text": [
      "2019-12-02 10:54:13,400 - [INFO] - The MIT license has been added to the repo\n"
     ]
    }
   ],
   "source": [
    "repo.add_license('MIT')"
   ]
  },
  {
   "cell_type": "markdown",
   "metadata": {
    "Collapsed": "false"
   },
   "source": [
    "## Add main package"
   ]
  },
  {
   "cell_type": "code",
   "execution_count": 6,
   "metadata": {
    "Collapsed": "false"
   },
   "outputs": [
    {
     "name": "stderr",
     "output_type": "stream",
     "text": [
      "2019-12-02 10:54:13,407 - [INFO] - The dating folder has been added to the repo\n",
      "2019-12-02 10:54:13,408 - [INFO] - The __init__.py file has been added to the repo\n",
      "2019-12-02 10:54:13,410 - [INFO] - The dating package has been added to the repo\n"
     ]
    }
   ],
   "source": [
    "repo.add_package()"
   ]
  },
  {
   "cell_type": "markdown",
   "metadata": {
    "Collapsed": "false"
   },
   "source": [
    "## Add a module"
   ]
  },
  {
   "cell_type": "code",
   "execution_count": 7,
   "metadata": {
    "Collapsed": "false"
   },
   "outputs": [
    {
     "name": "stderr",
     "output_type": "stream",
     "text": [
      "2019-12-02 10:54:13,417 - [INFO] - The dating module has been added to the repo\n"
     ]
    }
   ],
   "source": [
    "repo.add_module('dating')"
   ]
  },
  {
   "cell_type": "markdown",
   "metadata": {
    "Collapsed": "false"
   },
   "source": [
    "## Add requirements"
   ]
  },
  {
   "cell_type": "code",
   "execution_count": 8,
   "metadata": {
    "Collapsed": "false"
   },
   "outputs": [
    {
     "name": "stderr",
     "output_type": "stream",
     "text": [
      "2019-12-02 10:54:13,426 - [INFO] - The requirements.txt file has been added to the repo\n"
     ]
    }
   ],
   "source": [
    "repo.add_requirements()"
   ]
  },
  {
   "cell_type": "markdown",
   "metadata": {
    "Collapsed": "false"
   },
   "source": [
    "## Add setup"
   ]
  },
  {
   "cell_type": "code",
   "execution_count": 9,
   "metadata": {
    "Collapsed": "false"
   },
   "outputs": [
    {
     "name": "stderr",
     "output_type": "stream",
     "text": [
      "2019-12-02 10:54:13,434 - [INFO] - The setup.py file has been added to the repo\n"
     ]
    }
   ],
   "source": [
    "repo.add_setup()"
   ]
  },
  {
   "cell_type": "markdown",
   "metadata": {
    "Collapsed": "false"
   },
   "source": [
    "## Add tests"
   ]
  },
  {
   "cell_type": "code",
   "execution_count": 10,
   "metadata": {
    "Collapsed": "false"
   },
   "outputs": [
    {
     "name": "stderr",
     "output_type": "stream",
     "text": [
      "2019-12-02 10:54:13,442 - [INFO] - The test folder has been added to the repo\n",
      "2019-12-02 10:54:13,444 - [INFO] - The context.py has been added to the repo\n",
      "2019-12-02 10:54:13,444 - [INFO] - The tests have been added to the repo\n"
     ]
    }
   ],
   "source": [
    "repo.add_tests()"
   ]
  },
  {
   "cell_type": "markdown",
   "metadata": {
    "Collapsed": "false"
   },
   "source": [
    "## Add documentation"
   ]
  },
  {
   "cell_type": "code",
   "execution_count": 11,
   "metadata": {
    "Collapsed": "false"
   },
   "outputs": [
    {
     "name": "stderr",
     "output_type": "stream",
     "text": [
      "2019-12-02 10:54:13,663 - [INFO] - The docs folder has been added to the repo\n",
      "2019-12-02 10:54:15,258 - [INFO] - The sphinx-quickstart script was run successfully\n",
      "2019-12-02 10:54:15,765 - [INFO] - The conf.py file has been modified\n",
      "2019-12-02 10:54:15,775 - [INFO] - The index.rst file has been modified\n",
      "2019-12-02 10:54:17,919 - [INFO] - The html documentation has been generated\n",
      "2019-12-02 10:54:17,919 - [INFO] - The documentation has been added\n"
     ]
    }
   ],
   "source": [
    "repo.add_docs()"
   ]
  },
  {
   "cell_type": "code",
   "execution_count": null,
   "metadata": {
    "Collapsed": "false"
   },
   "outputs": [],
   "source": []
  },
  {
   "cell_type": "code",
   "execution_count": null,
   "metadata": {
    "Collapsed": "false"
   },
   "outputs": [],
   "source": []
  }
 ],
 "metadata": {
  "kernelspec": {
   "display_name": "Python 3",
   "language": "python",
   "name": "python3"
  },
  "language_info": {
   "codemirror_mode": {
    "name": "ipython",
    "version": 3
   },
   "file_extension": ".py",
   "mimetype": "text/x-python",
   "name": "python",
   "nbconvert_exporter": "python",
   "pygments_lexer": "ipython3",
   "version": "3.7.4"
  }
 },
 "nbformat": 4,
 "nbformat_minor": 4
}
